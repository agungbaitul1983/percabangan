{
  "nbformat": 4,
  "nbformat_minor": 0,
  "metadata": {
    "colab": {
      "provenance": [],
      "collapsed_sections": []
    },
    "kernelspec": {
      "name": "python3",
      "display_name": "Python 3"
    },
    "language_info": {
      "name": "python"
    }
  },
  "cells": [
    {
      "cell_type": "code",
      "source": [],
      "metadata": {
        "id": "46xvRHfenyVX"
      },
      "execution_count": null,
      "outputs": []
    },
    {
      "cell_type": "markdown",
      "source": [
        "Struktur Percabangan dalam pemrograman python, yaitu:\n",
        "\n",
        "1. **Struktur Percabangan if**\n",
        "\n",
        "Struktur percabangan if digunakan untuk satu pilihan keputusan.\n",
        "Jika **kondisi True/benar** maka **statement dikerjakan**,\n",
        "Jika **kondisi False/salah** maka **statement tidak dikerjakan**.\n",
        "\n",
        "**Bentuk Umum:**\n",
        "\n",
        "if kondisi:\n",
        "\n",
        "   statement\n",
        "\n",
        "2. **Struktur Percabangan if ... else**\n",
        "\n",
        "Percabangan if ... Else akan menyeleksi kondisi \n",
        "jika **kondisi bernilai True/benar** maka **statement1 dijalankan**, \n",
        "jika **kondisi bernilai False/salah** maka **statement2 dijalankan**\n",
        "\n",
        "**Bentuk umum:**\n",
        "\n",
        "if kondisi:\n",
        "\n",
        "  statement1\n",
        "\n",
        "else:\n",
        "\n",
        "  statement2\n",
        "\n",
        "3. **Struktur Percabangan if ... Elif ... Else**\n",
        "\n",
        "Digunakan untuk menguji **lebih dari 2 kondisi**, bila **kondisi1 benar** maka **statement1 dikerjakan**, bila **salah menuju ke kondisi2** . Bila **kondisi2 benar** maka **statement2 dikerjakan**, jika salah maka **statemen3 dikerjakan**.\n",
        "\n",
        "**Bentuk umum:**\n",
        "\n",
        "if kondisi1:\n",
        "\n",
        "  statement1\n",
        "\n",
        "elif kondisi2:\n",
        "\n",
        "  statement2\n",
        "\n",
        "else:\n",
        "\n",
        "  statement3\n",
        "\n",
        "**Contoh Studi Kasus:**\n",
        "\n",
        "Adi mengerjakan ujian tengah semester dengan ketentuan:\n",
        "\n",
        "Jika nilai lebih besar sama dengan 80 maka Adi Mendapat Grade \"A\"\n",
        "\n",
        "Jika nilai lebih besar sama dengan 50 maka Adi Mendapat Grade \"B\"\n",
        "\n",
        "Jika nilai kurang dari 50 maka Adi Mendapat Grade \"C\"\n",
        "\n",
        "**SOAL LATIHAN 1**\n",
        "\n",
        "Adi mengerjakan ujian tengah semester dengan ketentuan:\n",
        "\n",
        "Jika nilai diantara 80 sd 100 maka Adi Mendapat Grade \"A\"\n",
        "\n",
        "Jika nilai diantara 60 sd 80 maka Adi Mendapat Grade \"B+\"\n",
        "\n",
        "Jika nilai diantara 50 sd 60 maka Adi Mendapat Grade \"B\"\n",
        "\n",
        "Jika nilai diantara 30 sd 40 maka Adi Mendapat Grade \"C\"\n",
        "\n",
        "Selain menginputkan nilai diatas muncul keterangan Sorry Nilai Yang Kamu Input Salah ..\n",
        "\n",
        "**SOAL LATIHAN 2**\n",
        "\n",
        "Buatlah Program Username dan Password Sederhana\n",
        "\n",
        "Jika diisi username=admin dan password=admin maka anda admin jika tika maka anda bukan admin"
      ],
      "metadata": {
        "id": "y6qDYEx0myey"
      }
    },
    {
      "cell_type": "code",
      "source": [
        "#Struktur Percabangan if\n",
        "nilai = int(input(\"Masukan Nilai Anda: \"))\n",
        "if nilai >= 80:\n",
        "  print(\"Kamu Mendapat Grade A\")"
      ],
      "metadata": {
        "colab": {
          "base_uri": "https://localhost:8080/"
        },
        "id": "H-zPua1vmzwR",
        "outputId": "cb38037b-670d-471f-fa19-abfd8b700e98"
      },
      "execution_count": null,
      "outputs": [
        {
          "output_type": "stream",
          "name": "stdout",
          "text": [
            "Masukan Nilai Anda: 80\n",
            "Kamu Mendapat Grade A\n"
          ]
        }
      ]
    },
    {
      "cell_type": "code",
      "source": [
        "#Struktur Percabangan if..else\n",
        "nilai = int(input(\"Masukan Nilai Anda: \"))\n",
        "if nilai >= 80:\n",
        "  print(\"Kamu Mendapat Grade A\")\n",
        "else:\n",
        "    print(\"Kamu Mendapat Grade B\")"
      ],
      "metadata": {
        "colab": {
          "base_uri": "https://localhost:8080/"
        },
        "id": "9lDwjpJbtEKn",
        "outputId": "1a3c93ed-e9d6-446e-a443-56ef5d3fc2d8"
      },
      "execution_count": null,
      "outputs": [
        {
          "output_type": "stream",
          "name": "stdout",
          "text": [
            "Masukan Nilai Anda: 60\n",
            "Kamu Mendapat Grade B\n"
          ]
        }
      ]
    },
    {
      "cell_type": "code",
      "source": [
        "#Struktur Percabangan if ... Elif ... Else\n",
        "nilai = int(input(\"Masukan Nilai Anda: \"))\n",
        "if nilai >= 80:\n",
        "  print(\"Kamu Mendapat Grade A\")\n",
        "elif nilai >= 50:\n",
        "    print(\"Kamu Mendapat Grade B\")\n",
        "else:\n",
        "    print(\"Kamu Mendapat Grade C\")    "
      ],
      "metadata": {
        "colab": {
          "base_uri": "https://localhost:8080/"
        },
        "id": "WIRLiUOGtZUe",
        "outputId": "2fc5b1b6-f2b9-4916-c16c-6e499f3e805f"
      },
      "execution_count": null,
      "outputs": [
        {
          "output_type": "stream",
          "name": "stdout",
          "text": [
            "Masukan Nilai Anda: 30\n",
            "Kamu Mendapat Nilai C\n"
          ]
        }
      ]
    },
    {
      "cell_type": "code",
      "source": [
        "nilai = int(input(\"Masukan Nilai Anda: \"))  \n",
        "if nilai > 80 and nilai <= 100:  \n",
        "   print(\"Congrats ! Kamu Mendapat Grade A ...\")  \n",
        "elif nilai > 60 and nilai <= 80:  \n",
        "   print(\"Kamu Mendapat Grade B + ...\")  \n",
        "elif nilai > 50 and nilai <= 60:  \n",
        "   print(\"Kamu Mendapat Grade B ...\")  \n",
        "elif (nilai > 30 and nilai <= 40):  \n",
        "   print(\"Kamu Mendapat Grade C ...\")  \n",
        "else:  \n",
        "   print(\"Sorry Nilai Yang Kamu Input Salah .. \")  "
      ],
      "metadata": {
        "colab": {
          "base_uri": "https://localhost:8080/"
        },
        "id": "8xojidAlxT4g",
        "outputId": "8ea8581d-64ca-4cb0-8f37-6577a73277fb"
      },
      "execution_count": null,
      "outputs": [
        {
          "output_type": "stream",
          "name": "stdout",
          "text": [
            "Masukan Nilai Anda: 70\n",
            "Kamu Mendapat Grade B + ...\n"
          ]
        }
      ]
    },
    {
      "cell_type": "code",
      "source": [
        "username = input(\"Masukan User Name: \")\n",
        "password = input(\"Masukan Password: \")\n",
        "if (username == \"admin\" and password == \"admin\"):\n",
        "  print(\"Selamat Datang Admin\")\n",
        "else:\n",
        "    print(\"Maaf Kamu Bukan Admin\")  "
      ],
      "metadata": {
        "colab": {
          "base_uri": "https://localhost:8080/"
        },
        "id": "q3tE67t30Krh",
        "outputId": "5453fb05-1714-424c-e68e-e34b27421fcd"
      },
      "execution_count": null,
      "outputs": [
        {
          "output_type": "stream",
          "name": "stdout",
          "text": [
            "Masukan User Name: admin\n",
            "Masukan Password: admin\n",
            "Selamat Datang Admin\n"
          ]
        }
      ]
    },
    {
      "cell_type": "code",
      "source": [
        "nama=input(\"Masukan Nama Anda: \")\n",
        "thnlahir=int(input(\"Masukan Tahun Lahir: \"))\n",
        "thnskrng=2022\n",
        "umur = int(thnskrng-thnlahir)\n",
        "if (umur >=0 and umur < 5):\n",
        "  print(\"Hai.. \",nama,\"usia anda:\", umur,\"tahun\",\"Kamu Termasuk Tergolong Balita\")\n",
        "elif (umur >=6 and umur < 12):\n",
        "  print(\"Hai.. \",nama,\"usia anda:\", umur,\"tahun\",\"Kamu Termasuk Tergolong Anak-Anak\")\n",
        "elif (umur >=13 and umur < 20):\n",
        "  print(\"Hai.. \",nama,\"usia anda:\", umur,\"tahun\",\"Kamu Termasuk Tergolong Remaja\")\n",
        "elif (umur >=20 and umur < 30):\n",
        "  print(\"Hai.. \",nama,\"usia anda:\", umur,\"tahun\",\"Kamu Termasuk Tergolong Dewasa\")\n",
        "elif (umur >=30 and umur < 50):\n",
        "  print(\"Hai.. \",nama,\"usia anda:\", umur,\"tahun\",\"Kamu Termasuk Tergolong Orang Tua\")\n",
        "else:\n",
        "  print(nama,\"usia anda: \", umur,\"tahun\",\"Kamu Termasuk Tergolong Diambang Tobat\")"
      ],
      "metadata": {
        "colab": {
          "base_uri": "https://localhost:8080/"
        },
        "id": "nWtUZev45n2W",
        "outputId": "e3a16a42-fa4e-4c6a-bc23-e9c228f88288"
      },
      "execution_count": null,
      "outputs": [
        {
          "output_type": "stream",
          "name": "stdout",
          "text": [
            "Masukan Nama Anda: Agung\n",
            "Masukan Tahun Lahir: 2009\n",
            "Hai..  Agung usia anda: 13 tahun Kamu Termasuk Tergolong Remaja\n"
          ]
        }
      ]
    },
    {
      "cell_type": "code",
      "source": [
        "nama=input(\"Masukan Nama Anda: \")\n",
        "thnlahir=int(input(\"Masukan Tahun Lahir: \"))\n",
        "thnskrng=2022\n",
        "umur = int(thnskrng-thnlahir)\n",
        "if (umur>=18 and umur<20):\n",
        "  kerja=input(\"Orang Tua Kamu Bekerja Y/T: \")\n",
        "  if(kerja==\"Y\"):\n",
        "    pendapatan=int(input(\"Masukan Pendapatan Orang Tua:\"))\n",
        "    tanggungan=int(input(\"Masukan Tanggungan Orang Tua:\"))\n",
        "    biaya_hidup=int(pendapatan/tanggungan)\n",
        "    if(biaya_hidup<300000):\n",
        "      print(\"SELAMAT,\",nama,\",usia anda:\", umur,\"tahun\",\",Kamu LAYAK mendapatkan KIP Kuliah karena biaya hidup orang tua\",biaya_hidup,\"batasan biaya hidup <300000\")\n",
        "    else:\n",
        "      print(\"MOHON MAAF,\",nama,\",usia anda:\", umur,\"tahun\",\",Kamu BELUM LAYAK mendapatkan KIP Kuliahkarena biaya hidup orang tua\",biaya_hidup,\"batasan biaya hidup <300000\")\n",
        "  else:\n",
        "      print(\"SELAMAT,\",nama,\",usia anda:\", umur,\"tahun\",\",Kamu LAYAK mendapatkan KIP Kuliah karena Orang Tuamu Tidak Bekerja\")\n",
        "else:\n",
        "  print(\"Mohon Maaf,\",nama,\",usia anda:\", umur,\"tahun\",\",Kamu BELUM LAYAK mendapatkan KIP Kuliah batasan usia 18 sd 20 Tahun\")\n",
        "\n"
      ],
      "metadata": {
        "colab": {
          "base_uri": "https://localhost:8080/"
        },
        "id": "Qgpq4BrqBnTV",
        "outputId": "0134a8d7-2975-49af-fa93-77c065299a5b"
      },
      "execution_count": null,
      "outputs": [
        {
          "output_type": "stream",
          "name": "stdout",
          "text": [
            "Masukan Nama Anda: Tiara Nurul\n",
            "Masukan Tahun Lahir: 2004\n",
            "Orang Tua Kamu Bekerja Y/T: T\n",
            "SELAMAT, Tiara Nurul ,usia anda: 18 tahun ,Kamu LAYAK mendapatkan KIP Kuliah karena Orang Tuamu Tidak Bekerja\n"
          ]
        }
      ]
    },
    {
      "cell_type": "markdown",
      "source": [],
      "metadata": {
        "id": "OAX-UWKbGxry"
      }
    },
    {
      "cell_type": "code",
      "source": [
        "kode=input(\"Masukan Kode: \")\n",
        "jmlbeli=int(input(\"Masukan Jumlah Beli: \"))\n",
        "if (kode==\"D\"):\n",
        "  jenis=\"dada\"\n",
        "  harga=2500\n",
        "elif(kode==\"P\"):\n",
        "  jenis=\"paha\"\n",
        "  harga=2000\n",
        "elif(kode==\"S\"):\n",
        "  jenis=\"sayap\"\n",
        "  harga=1500\n",
        "else:\n",
        "  jenis=print(\"kode tidak ada\")\n",
        "  harga=print(\"0\")\n",
        "bayar=int((jmlbeli*harga)) + int((jmlbeli*harga)*10/100) \n",
        "print(\"Jenis Potong:\", jenis,\"\\nHarga Bayar:\", harga, \"\\nJumlah Beli:\", jmlbeli,\"\\nPembayaran:\", int((jmlbeli*harga)), \"\\nPajak\",int((jmlbeli*harga)*10/100),\"\\nTotal:\", bayar)"
      ],
      "metadata": {
        "colab": {
          "base_uri": "https://localhost:8080/"
        },
        "id": "4L29VcL9sMca",
        "outputId": "826bc8e8-1344-47d5-9532-d81961b5c791"
      },
      "execution_count": null,
      "outputs": [
        {
          "output_type": "stream",
          "name": "stdout",
          "text": [
            "Masukan Kode: P\n",
            "Masukan Jumlah Beli: 10\n",
            "Jenis Potong: paha \n",
            "Harga Bayar: 2000 \n",
            "Jumlah Beli: 10 \n",
            "Pembayaran: 20000 \n",
            "Pajak 2000 \n",
            "Total: 22000\n"
          ]
        }
      ]
    },
    {
      "cell_type": "code",
      "source": [
        "masukkansatu = float(input(\"Masukkan nilai UTS anda:\"))\n",
        "masukkandua = float(input(\"Masukkan nilai UAS anda:\"))\n",
        "masukkantiga = float(input(\"Masukkan nilai TUGAS anda:\"))\n",
        "masukkanempat = float(input(\"Masukkan nilai ABSENSI anda:\"))\n",
        "\n",
        "nilai = (((masukkansatu * 0.3) + (masukkandua * 0.3) + (masukkantiga * 0.2) + (masukkanempat * 0.2)))\n",
        "\n",
        "if nilai <= 44.9 and nilai >=0:\n",
        "    print (f\"Nilai anda: {nilai}\")\n",
        "    print(\"Nilai huruf anda: E\")\n",
        "elif nilai <= 54.9 and nilai >= 45:\n",
        "    print (f\"Nilai anda: {nilai}\")\n",
        "    print(\"Nilai huruf anda: D\")\n",
        "elif nilai <= 59.9 and nilai >= 55:\n",
        "    print (f\"Nilai anda: {nilai}\")\n",
        "    print(\"Nilai huruf anda: C\")\n",
        "elif nilai <= 64.9 and nilai >= 60:\n",
        "    print (f\"Nilai anda: {nilai}\")\n",
        "    print(\"Nilai huruf anda: C+\")\n",
        "elif nilai <= 69.9 and nilai >= 65:\n",
        "    print (f\"Nilai anda: {nilai}\")\n",
        "    print(\"Nilai huruf anda: B-\")\n",
        "elif nilai <= 74.9 and nilai >= 70:\n",
        "    print (f\"Nilai anda: {nilai}\")\n",
        "    print(\"Nilai huruf anda: B\")\n",
        "elif nilai <= 79.9 and nilai >= 75:\n",
        "    print (f\"Nilai anda: {nilai}\")\n",
        "    print(\"Nilai huruf anda: B+\")\n",
        "elif nilai <= 84.9 and nilai >= 80:\n",
        "    print (f\"Nilai anda: {nilai}\")\n",
        "    print(\"Nilai huruf anda: A-\")\n",
        "elif nilai <= 100:\n",
        "    print (f\"Nilai anda: {nilai}\")\n",
        "    print(\"Nilai huruf anda: A\")\n",
        "else:\n",
        "    print (\"Input Salah\")"
      ],
      "metadata": {
        "colab": {
          "base_uri": "https://localhost:8080/"
        },
        "id": "B_zyBZO_5caT",
        "outputId": "8c920589-6da8-44b9-edd6-cc209f9b91b3"
      },
      "execution_count": 3,
      "outputs": [
        {
          "output_type": "stream",
          "name": "stdout",
          "text": [
            "Masukkan nilai UTS anda:20\n",
            "Masukkan nilai UAS anda:70\n",
            "Masukkan nilai TUGAS anda:100\n",
            "Masukkan nilai ABSENSI anda:100\n",
            "Nilai anda: 67.0\n",
            "Nilai huruf anda: B-\n"
          ]
        }
      ]
    },
    {
      "cell_type": "code",
      "source": [
        "print('############################')\n",
        "print('Kalkulator Advance Sederhana')\n",
        "print('############################')\n",
        "print('  1. Menghitung sisa hasil bagi')\n",
        "print('  2. Membulatkan ke bawah hasil pembagian')\n",
        "print('  3. Mencari akar kubik sebuah bilangan')\n",
        "\n",
        "menu = input('Masukkan menu yang anda pilih: ')\n",
        "if menu == '1':\n",
        "    dibagi_1 = float(input('Masukkan bilangan yang ingin dibagi: '))\n",
        "    pembagi_1 = float(input('Masukkan bilangan pembagi: '))\n",
        "elif menu == '2':\n",
        "    dibagi_2 = float(input('Masukkan bilangan yang ingin dibagi: '))\n",
        "    pembagi_2 = float(input('Masukkan bilangan pembagi: '))\n",
        "elif menu == '3':\n",
        "    pembagi_3 = eval(input('Masukkan bilangan yang ingin dicari akar kubiknya: '))\n",
        "else:\n",
        "  print('Menu yang anda pilih tidak tersedia')\n",
        "        \n",
        "if menu == '1':\n",
        "  penyelesaian_1 = dibagi_1 % pembagi_1\n",
        "  print(f'Sisa hasil bagi {dibagi_1} dibagi dengan {pembagi_1} adalah {penyelesaian_1}')\n",
        "elif menu == '2':\n",
        "  penyelesaian_2 = dibagi_2 // pembagi_2\n",
        "  print(f'Hasil pembagian {dibagi_2} dibagi dengan {pembagi_2} dibulatkan kebawah adalah {penyelesaian_2}')\n",
        "elif menu == '3':\n",
        "  penyelesaian_3 = sqrt=pembagi_3**(1/3) \n",
        "  print(f'Akar kubik dari {pembagi_3} adalah = {penyelesaian_3}')"
      ],
      "metadata": {
        "colab": {
          "base_uri": "https://localhost:8080/"
        },
        "id": "R_Gnm_V-6r7G",
        "outputId": "7c84dd36-a578-40ee-b77c-f55cbccd2ba0"
      },
      "execution_count": 4,
      "outputs": [
        {
          "output_type": "stream",
          "name": "stdout",
          "text": [
            "############################\n",
            "Kalkulator Advance Sederhana\n",
            "############################\n",
            "  1. Menghitung sisa hasil bagi\n",
            "  2. Membulatkan ke bawah hasil pembagian\n",
            "  3. Mencari akar kubik sebuah bilangan\n",
            "Masukkan menu yang anda pilih: 3\n",
            "Masukkan bilangan yang ingin dicari akar kubiknya: 20\n",
            "Akar kubik dari 20 adalah = 2.7144176165949063\n"
          ]
        }
      ]
    },
    {
      "cell_type": "code",
      "source": [
        "#fungsi eval() sering digunakan untuk mengevaluasi input dari user. \n",
        "#Kita tahu bahwa input dari user via keyboard hasilnya adalah string walaupun yang kita input adalah bilangan. \n",
        "#fungsi eval() akan menentukan tipe data yang sesuai untuk kita\n",
        "\n",
        "menu = input('Mendatar/Menurun?: ')\n",
        "if menu == 'Mendatar':\n",
        "    angka = eval(input('Masukkan kolom: '))\n",
        "elif menu == 'Menurun':\n",
        "    angka = eval(input('Masukkan baris: '))\n",
        "else:\n",
        "  print('Pola tidak dikenali')\n",
        "print('#' * angka)"
      ],
      "metadata": {
        "colab": {
          "base_uri": "https://localhost:8080/"
        },
        "id": "VtFhlM4d69Dw",
        "outputId": "197d0fe9-6e57-4ab8-af41-064eb496eb44"
      },
      "execution_count": 7,
      "outputs": [
        {
          "output_type": "stream",
          "name": "stdout",
          "text": [
            "Mendatar/Menurun?: Mendatar\n",
            "Masukkan kolom: 1000\n",
            "########################################################################################################################################################################################################################################################################################################################################################################################################################################################################################################################################################################################################################################################################################################################################################################################################################################################################################################################################################################################################################################\n"
          ]
        }
      ]
    },
    {
      "cell_type": "code",
      "source": [
        "# input data\n",
        "a=int(input('Masukkan kode karyawan\t:'))\n",
        "b=str(input('Masukkan nama karyawan\t:'))\n",
        "c=str(input('Masukkan golongan\t:'))\n",
        "d=int(input('Masukkan status (1: menikah, 2: blm)\t:'))\n",
        "if(d==1):\n",
        "    e=int(input('Masukkan jumlah anak\t\t\t:'))\n",
        "\n",
        "#rumus gaji    \n",
        "gajiA= 10000000\t\n",
        "gajiB= 8500000\t\n",
        "gajiC= 7000000\t\n",
        "gajiD= 5500000\t\n",
        "\n",
        "potA= 2.5\n",
        "potB= 2.0\n",
        "potC= 1.5\n",
        "potD= 1.0\n",
        "\n",
        "potongA= gajiA*potA/100\n",
        "potongB= gajiB*potB/100\n",
        "potongC= gajiA*potC/100\n",
        "potongD= gajiA*potD/100\n",
        "\n",
        "tunjIstriSuamiA= 10/100*gajiA\n",
        "tunjIstriSuamiB= 10/100*gajiB\n",
        "tunjIstriSuamiC= 10/100*gajiC\n",
        "tunjIstriSuamiD= 10/100*gajiD\n",
        "\n",
        "# rumus gaji ada anak\n",
        "tunjAnakA= 5/100*gajiA*e\n",
        "tunjAnakB= 5/100*gajiB*e\n",
        "tunjAnakC= 5/100*gajiC*e\n",
        "tunjAnakD= 5/100*gajiD*e\n",
        "\n",
        "GajiKotorAnakA = gajiA + tunjIstriSuamiA + tunjAnakA\n",
        "GajiKotorAnakB = gajiB + tunjIstriSuamiB + tunjAnakB\n",
        "GajiKotorAnakC = gajiC + tunjIstriSuamiC + tunjAnakC\n",
        "GajiKotorAnakD = gajiD + tunjIstriSuamiD + tunjAnakD\n",
        "\n",
        "GajiBersihAnakA = GajiKotorAnakA - potongA\n",
        "GajiBersihAnakB = GajiKotorAnakB - potongB\n",
        "GajiBersihAnakC = GajiKotorAnakC - potongC\n",
        "GajiBersihAnakD= GajiKotorAnakD - potongD\n",
        "\n",
        "\n",
        "\n",
        "#output \n",
        "print('====================================')\n",
        "print('STRUK RINCIAN GAJI KARYAWAN')\n",
        "print('-----------------------------------------------------------')\n",
        "print('Nama Karyawan\t\t        :', b, '(Kode:', a,')')\n",
        "print('Golongan\t\t\t:', c)\n",
        "print('Status Menikah\t\t\t:', end= ' ')\n",
        "if(d==1):\n",
        "    print('Sudah Menikah')\n",
        "    print('Jumlah Anak\t\t\t:', e)\n",
        "elif(d==2):\n",
        "    print('Belum Menikah')\n",
        "print('-----------------------------------------------------------')\n",
        "\n",
        "\n",
        "if(d==1)and(c=='A'):\n",
        "    print('Gaji Pokok\t\t\t:  Rp', gajiA)\n",
        "    print('Tunjangan Istri/Suami\t\t:  Rp', tunjIstriSuamiA)\n",
        "    print('Tunjangan anak\t\t\t: Rp', tunjAnakA)\n",
        "    print('----------------------------------------------------------- +')\n",
        "    print('Gaji Kotor\t\t\t: Rp', GajiKotorAnakA)\n",
        "    print('Potongan (', potA, '%)\t\t: Rp', potongA)\n",
        "    print('----------------------------------------------------------- -')\n",
        "    print('Gaji Bersih\t\t\t: Rp',GajiBersihAnakA)\n",
        "if(d==1)and(c=='B'):\n",
        "    print('Gaji Pokok\t\t\t:  Rp', gajiB)\n",
        "    print('Tunjangan Istri/Suami\t\t:  Rp', tunjIstriSuamiB)\n",
        "    print('Tunjangan anak\t\t\t: Rp', tunjAnakB)\n",
        "    print('----------------------------------------------------------- +')\n",
        "    print('Gaji Kotor\t\t\t: Rp', GajiKotorAnakB)\n",
        "    print('Potongan (', potB, '%)\t\t: Rp', potongB)\n",
        "    print('----------------------------------------------------------- -')\n",
        "    print('Gaji Bersih\t\t\t: Rp',GajiBersihAnakB)\n",
        "if(d==1)and(c=='C'):\n",
        "    print('Gaji Pokok\t\t\t:  Rp', gajiC)\n",
        "    print('Tunjangan Istri/Suami\t\t:  Rp', tunjIstriSuamiC)\n",
        "    print('Tunjangan anak\t\t\t: Rp', tunjAnakC)\n",
        "    print('----------------------------------------------------------- +')\n",
        "    print('Gaji Kotor\t\t\t: Rp', GajiKotorAnakC)\n",
        "    print('Potongan (', potC, '%)\t\t: Rp', potongC)\n",
        "    print('----------------------------------------------------------- -')\n",
        "    print('Gaji Bersih\t\t\t: Rp',GajiBersihAnakC)\n",
        "if(d==1)and(c=='D'):\n",
        "    print('Gaji Pokok\t\t\t:  Rp', gajiD)\n",
        "    print('Tunjangan Istri/Suami\t\t:  Rp', tunjIstriSuamiD)\n",
        "    print('Tunjangan anak\t\t\t: Rp', tunjAnakD)\n",
        "    print('----------------------------------------------------------- +')\n",
        "    print('Gaji Kotor\t\t\t: Rp', GajiKotorAnakD)\n",
        "    print('Potongan (', potD, '%)\t\t: Rp', potongD)\n",
        "    print('----------------------------------------------------------- -')\n",
        "    print('Gaji Bersih\t\t\t: Rp',GajiBersihAnakD)\n",
        "\n",
        "\n",
        "\n",
        "#rumus gaji tanpa anak\n",
        "\n",
        "\n",
        "GajiKotorA = gajiA + tunjIstriSuamiA \n",
        "GajiKotorB = gajiB + tunjIstriSuamiB \n",
        "GajiKotorC = gajiC + tunjIstriSuamiC \n",
        "GajiKotorD = gajiD + tunjIstriSuamiD \n",
        "\n",
        "GajiBersihA = GajiKotorA - potongA\n",
        "GajiBersihB = GajiKotorB - potongB\n",
        "GajiBersihC = GajiKotorC - potongC\n",
        "GajiBersihD = GajiKotorA - potongD\n",
        "\n",
        "#output tanpa anak\n",
        "if(d==2)and(c=='A'):\n",
        "    print('Gaji Pokok\t\t\t:  Rp', gajiA)\n",
        "    print('Tunjangan Istri/Suami\t\t:  Rp', tunjIstriSuamiA)\n",
        "    print('----------------------------------------------------------- +')\n",
        "    print('Gaji Kotor\t\t\t: Rp', GajiKotorA)\n",
        "    print('Potongan (', potA, '%)\t\t: Rp', potongA)\n",
        "    print('----------------------------------------------------------- -')\n",
        "    print('Gaji Bersih\t\t\t: Rp',GajiBersihA)\n",
        "if(d==2)and(c=='B'):\n",
        "    print('Gaji Pokok\t\t\t:  Rp', gajiB)\n",
        "    print('Tunjangan Istri/Suami\t\t:  Rp', tunjIstriSuamiB)\n",
        "    print('----------------------------------------------------------- +')\n",
        "    print('Gaji Kotor\t\t\t: Rp', GajiKotorB)\n",
        "    print('Potongan (', potB, '%)\t\t: Rp', potongB)\n",
        "    print('----------------------------------------------------------- -')\n",
        "    print('Gaji Bersih\t\t\t: Rp',GajiBersihB)\n",
        "if(d==2)and(c=='C'):\n",
        "    print('Gaji Pokok\t\t\t:  Rp', gajiC)\n",
        "    print('Tunjangan Istri/Suami\t\t:  Rp', tunjIstriSuamiC)\n",
        "    print('----------------------------------------------------------- +')\n",
        "    print('Gaji Kotor\t\t\t: Rp', GajiKotorC)\n",
        "    print('Potongan (', potC, '%)\t\t: Rp', potongC)\n",
        "    print('----------------------------------------------------------- -')\n",
        "    print('Gaji Bersih\t\t\t: Rp',GajiBersihC)\n",
        "if(d==2)and(c=='D'):\n",
        "    print('Gaji Pokok\t\t\t:  Rp', gajiD)\n",
        "    print('Tunjangan Istri/Suami\t\t:  Rp', tunjIstriSuamiD)\n",
        "    print('----------------------------------------------------------- +')\n",
        "    print('Gaji Kotor\t\t\t: Rp', GajiKotorD)\n",
        "    print('Potongan (', potD, '%)\t\t: Rp', potongD)\n",
        "    print('----------------------------------------------------------- -')\n",
        "    print('Gaji Bersih\t\t\t: Rp',GajiBersihD)"
      ],
      "metadata": {
        "colab": {
          "base_uri": "https://localhost:8080/",
          "height": 264
        },
        "id": "C9SjgD5076pI",
        "outputId": "bd643bea-e8bd-4a87-882d-38a9212c7dc7"
      },
      "execution_count": 13,
      "outputs": [
        {
          "name": "stdout",
          "output_type": "stream",
          "text": [
            "Masukkan kode karyawan\t:TAU\n"
          ]
        },
        {
          "output_type": "error",
          "ename": "ValueError",
          "evalue": "ignored",
          "traceback": [
            "\u001b[0;31m---------------------------------------------------------------------------\u001b[0m",
            "\u001b[0;31mValueError\u001b[0m                                Traceback (most recent call last)",
            "\u001b[0;32m<ipython-input-13-dc790b2588b8>\u001b[0m in \u001b[0;36m<module>\u001b[0;34m\u001b[0m\n\u001b[1;32m      1\u001b[0m \u001b[0;31m# input data\u001b[0m\u001b[0;34m\u001b[0m\u001b[0;34m\u001b[0m\u001b[0;34m\u001b[0m\u001b[0m\n\u001b[0;32m----> 2\u001b[0;31m \u001b[0ma\u001b[0m\u001b[0;34m=\u001b[0m\u001b[0mint\u001b[0m\u001b[0;34m(\u001b[0m\u001b[0minput\u001b[0m\u001b[0;34m(\u001b[0m\u001b[0;34m'Masukkan kode karyawan     :'\u001b[0m\u001b[0;34m)\u001b[0m\u001b[0;34m)\u001b[0m\u001b[0;34m\u001b[0m\u001b[0;34m\u001b[0m\u001b[0m\n\u001b[0m\u001b[1;32m      3\u001b[0m \u001b[0mb\u001b[0m\u001b[0;34m=\u001b[0m\u001b[0mstr\u001b[0m\u001b[0;34m(\u001b[0m\u001b[0minput\u001b[0m\u001b[0;34m(\u001b[0m\u001b[0;34m'Masukkan nama karyawan     :'\u001b[0m\u001b[0;34m)\u001b[0m\u001b[0;34m)\u001b[0m\u001b[0;34m\u001b[0m\u001b[0;34m\u001b[0m\u001b[0m\n\u001b[1;32m      4\u001b[0m \u001b[0mc\u001b[0m\u001b[0;34m=\u001b[0m\u001b[0mstr\u001b[0m\u001b[0;34m(\u001b[0m\u001b[0minput\u001b[0m\u001b[0;34m(\u001b[0m\u001b[0;34m'Masukkan golongan  :'\u001b[0m\u001b[0;34m)\u001b[0m\u001b[0;34m)\u001b[0m\u001b[0;34m\u001b[0m\u001b[0;34m\u001b[0m\u001b[0m\n\u001b[1;32m      5\u001b[0m \u001b[0md\u001b[0m\u001b[0;34m=\u001b[0m\u001b[0mint\u001b[0m\u001b[0;34m(\u001b[0m\u001b[0minput\u001b[0m\u001b[0;34m(\u001b[0m\u001b[0;34m'Masukkan status (1: menikah, 2: blm)       :'\u001b[0m\u001b[0;34m)\u001b[0m\u001b[0;34m)\u001b[0m\u001b[0;34m\u001b[0m\u001b[0;34m\u001b[0m\u001b[0m\n",
            "\u001b[0;31mValueError\u001b[0m: invalid literal for int() with base 10: 'TAU'"
          ]
        }
      ]
    },
    {
      "cell_type": "code",
      "source": [
        "# BIAYA PENGOBATAN\n",
        "    # OPERASI MATA\n",
        "katarak = \"Rp. 7.500.000\"\n",
        "plus_minus = \"Rp. 5.000.000\"\n",
        "silinder = \"Rp. 4.000.000\"\n",
        "\n",
        "    # OPERASI JANTUNG\n",
        "jantung_koroner = \"Rp. 500.000.000\"\n",
        "katup_jantung = \"Rp. 350.000.000\"\n",
        "otot_jantung = \"Rp. 450.000.000\"\n",
        "\n",
        "print(\"<--- MENU HITUNG BIAYA OPERASI ---> \")\n",
        "print(\"1. Hitung Biaya Operasi Mata\")\n",
        "print(\"2. Hitung biaya Operasi Jantung\")\n",
        "\n",
        "masukan_pilihan_penyakit = int(input(\"Masukkan pilihan: \"))\n",
        "if masukan_pilihan_penyakit == 1:\n",
        "    print(\"JENIS PENYAKIT MATA : \")\n",
        "    print(\"1. Katarak\")\n",
        "    print(\"2. Plus/Minus\")\n",
        "    print(\"3. Silinder\")\n",
        "    \n",
        "    masukkan_jenis_penyakit_mata = int(input(\"Masukkan Jenis Penyakit Mata : \"))\n",
        "    if masukkan_jenis_penyakit_mata == 1:\n",
        "        print(f\"Biaya Operasi mata Katarak = {katarak}\")\n",
        "    elif masukkan_jenis_penyakit_mata == 2:\n",
        "        print(f\"Biaya operasi mata Plus/Minus = {plus_minus}\")\n",
        "    elif masukkan_jenis_penyakit_mata == 3:\n",
        "        print(f\"Biaya operasi mata Silinder = {silinder}\")\n",
        "    else:\n",
        "        print(\"Pilihan tidak tersedia\")\n",
        "\n",
        "elif masukan_pilihan_penyakit == 2:\n",
        "    print(\"JENIS PENYAKIT JANTUNG :\")\n",
        "    print(\"1. Jantung Koroner\")\n",
        "    print(\"2. Katup Jantung\")\n",
        "    print(\"3. Otot Jantung\")\n",
        "\n",
        "    masukkkan_jenis_penyakit_jantung =int(input(\"Masukkan Jenis Penyakit Jantung : \"))\n",
        "    if masukkkan_jenis_penyakit_jantung == 1:\n",
        "        print(f\"Biaya operasi jantung koroner = {jantung_koroner}\")\n",
        "    elif masukkkan_jenis_penyakit_jantung == 2:\n",
        "        print(f\"Biaya operasi katup jantung = {katup_jantung}\")\n",
        "    elif masukkkan_jenis_penyakit_jantung == 3:\n",
        "        print(f\"Biaya operasi otot jantung = {otot_jantung}\")\n",
        "    else:\n",
        "        print(\"pilihan tidak tersedia\")\n",
        "else:\n",
        "    print(\"Mohon Maaf, pilihan tidak tersedia\")"
      ],
      "metadata": {
        "colab": {
          "base_uri": "https://localhost:8080/"
        },
        "id": "dFv5Xvb-9OQA",
        "outputId": "112a6197-14e0-49b8-9320-993558923e20"
      },
      "execution_count": 15,
      "outputs": [
        {
          "output_type": "stream",
          "name": "stdout",
          "text": [
            "<--- MENU HITUNG BIAYA OPERASI ---> \n",
            "1. Hitung Biaya Operasi Mata\n",
            "2. Hitung biaya Operasi Jantung\n",
            "Masukkan pilihan: 2\n",
            "JENIS PENYAKIT JANTUNG :\n",
            "1. Jantung Koroner\n",
            "2. Katup Jantung\n",
            "3. Otot Jantung\n",
            "Masukkan Jenis Penyakit Jantung : 3\n",
            "Biaya operasi otot jantung = Rp. 450.000.000\n"
          ]
        }
      ]
    },
    {
      "cell_type": "code",
      "source": [
        "'''\n",
        "Mathys Jorge Alberino Seilatu- 205314174\n",
        "'''\n",
        "import math\n",
        "\n",
        "#menu pertama untuk pilih bangun mana yang mau dicari keliling atau luasnya\n",
        "pilih = input(\"\"\"\n",
        "Pilih Menu:\n",
        "a.\tSegitiga Sama Kaki\n",
        "b.\tPersegi Panjang\n",
        "c.\tLingkaran\n",
        "d.\tJajar Genjang\n",
        "e.\tTrapesium Sama Kaki\n",
        ">\"\"\")\n",
        "\n",
        "pilih1 = \"\"\n",
        "\n",
        "#function Keliling bangun\n",
        "def KelilingSSK(): \n",
        "    a = int(input(\"Alas: \")) \n",
        "    k = int(input(\"Panjang Kaki: \"))\n",
        "    return \"Keliling Segitiga: {}\".format(a+k)\n",
        "def KelilingPP(): \n",
        "    p = int(input(\"Panjang: \"))\n",
        "    l = int(input(\"Lebar: \"))\n",
        "    return \"Keliling Persegi Panjang: {}\".format(2*(p+l))\n",
        "def KelilingL(): \n",
        "    r = int(input(\"Jari-Jari: \"))\n",
        "    return \"Keliling Lingkaran: {}\".format(2*math.pi*r)\n",
        "def KelilingJG(): \n",
        "    s1 = int(input(\"Sisi 1: \")) \n",
        "    s2 = int(input(\"Sisi 2: \"))\n",
        "    return \"Keliling Jajar Genjang: {}\".format(2*(s1+s2))\n",
        "def KelilingT(): \n",
        "    s1 = int(input(\"Sisi 1: \")) \n",
        "    s2 = int(input(\"Sisis 2: \"))\n",
        "    return \"Keliling Trapesium: {}\".format(2*(s1+s2))\n",
        "\n",
        "#function Luas bangun\n",
        "def LuasSSK(): \n",
        "    a = int(input(\"Alas: \")) \n",
        "    t = int(input(\"Tinggi: \"))\n",
        "    return \"Luas Segitiga: {}\".format(0.5*a*t)\n",
        "def LuasPP(): \n",
        "    p = int(input(\"Panjang: \")) \n",
        "    l = int(input(\"Lebar: \"))\n",
        "    return \"Luas Persegi Panjang: {}\".format(p*l)\n",
        "def LuasL(): \n",
        "    r = int(input(\"Jari-Jari: \"))\n",
        "    return \"Luas Lingkaran: {}\".format(math.pi*r*r)\n",
        "def LuasJG(): \n",
        "    a = int(input(\"Alas: \"))\n",
        "    t = int(input(\"Tinggi: \"))\n",
        "    return \"Luas Jajar Genjang: {}\".format(a*t)\n",
        "def LuasT(): \n",
        "    s1 = int(input(\"Sisi 1: \"))\n",
        "    s2 = int(input(\"Sisi 2: \"))\n",
        "    t = int(input(\"Tinggi: \"))\n",
        "    return \"Luas Trapesium: {}\".format(((s1+s2)*t)/2)\n",
        "\n",
        "def menu(pilih):\n",
        "    bisa_pilih = \"ABCDE\"\n",
        "    bangun = [\"Segitiga Sama Kaki\", \"Persegi Panjang\",\n",
        "              \"Lingkaran\", \"Jajar Genjang\", \"Trapesium Sama Kaki\"]\n",
        "    Int = 0\n",
        "    for x in bisa_pilih:\n",
        "        if pilih == x:\n",
        "            #menu kedua untuk pilih luas atau keliling bangun\n",
        "            pilih1 = input(\"Pilih Menu:\\n1.  Luas {}\\n2.  Keliling {}\\n>\".format(bangun[Int], bangun[Int]))\n",
        "        Int += 1\n",
        "    #saya gamau buat banyak if jadi pake ini aja\n",
        "    #ganti dari if statement adalah tipe data dictionary yang nantinya dieksekusi di print\n",
        "    syarat = {(pilih1 == \"1\" and pilih == \"A\") : LuasSSK, (pilih1 == \"1\" and pilih == \"B\") : LuasPP, \n",
        "              (pilih1 == \"1\" and pilih == \"C\") : LuasL, (pilih1 == \"1\" and pilih == \"D\") : LuasJG, \n",
        "              (pilih1 == \"1\" and pilih == \"E\") : LuasT, (pilih1 == \"2\" and pilih == \"A\") : KelilingSSK, \n",
        "              (pilih1 == \"2\" and pilih == \"B\") : KelilingPP, (pilih1 == \"2\" and pilih == \"C\") : KelilingL, \n",
        "              (pilih1 == \"2\" and pilih == \"D\") : KelilingJG, (pilih1 == \"2\" and pilih == \"E\") : KelilingT}\n",
        "    #memanggil dict yang bernilai True lalu mengeksekusinya di sini bukan di variable syarat\n",
        "    print(syarat[True]())\n",
        "        \n",
        "\n",
        "menu(pilih)"
      ],
      "metadata": {
        "colab": {
          "base_uri": "https://localhost:8080/",
          "height": 486
        },
        "id": "8vqyTmx39rhJ",
        "outputId": "e8ca1788-cf34-4acb-c609-72e984ad911d"
      },
      "execution_count": 17,
      "outputs": [
        {
          "name": "stdout",
          "output_type": "stream",
          "text": [
            "\n",
            "Pilih Menu:\n",
            "a.\tSegitiga Sama Kaki\n",
            "b.\tPersegi Panjang\n",
            "c.\tLingkaran\n",
            "d.\tJajar Genjang\n",
            "e.\tTrapesium Sama Kaki\n",
            ">a\n"
          ]
        },
        {
          "output_type": "error",
          "ename": "UnboundLocalError",
          "evalue": "ignored",
          "traceback": [
            "\u001b[0;31m---------------------------------------------------------------------------\u001b[0m",
            "\u001b[0;31mUnboundLocalError\u001b[0m                         Traceback (most recent call last)",
            "\u001b[0;32m<ipython-input-17-1d30b4ea5ff9>\u001b[0m in \u001b[0;36m<module>\u001b[0;34m\u001b[0m\n\u001b[1;32m     80\u001b[0m \u001b[0;34m\u001b[0m\u001b[0m\n\u001b[1;32m     81\u001b[0m \u001b[0;34m\u001b[0m\u001b[0m\n\u001b[0;32m---> 82\u001b[0;31m \u001b[0mmenu\u001b[0m\u001b[0;34m(\u001b[0m\u001b[0mpilih\u001b[0m\u001b[0;34m)\u001b[0m\u001b[0;34m\u001b[0m\u001b[0;34m\u001b[0m\u001b[0m\n\u001b[0m",
            "\u001b[0;32m<ipython-input-17-1d30b4ea5ff9>\u001b[0m in \u001b[0;36mmenu\u001b[0;34m(pilih)\u001b[0m\n\u001b[1;32m     71\u001b[0m     \u001b[0;31m#saya gamau buat banyak if jadi pake ini aja\u001b[0m\u001b[0;34m\u001b[0m\u001b[0;34m\u001b[0m\u001b[0;34m\u001b[0m\u001b[0m\n\u001b[1;32m     72\u001b[0m     \u001b[0;31m#ganti dari if statement adalah tipe data dictionary yang nantinya dieksekusi di print\u001b[0m\u001b[0;34m\u001b[0m\u001b[0;34m\u001b[0m\u001b[0;34m\u001b[0m\u001b[0m\n\u001b[0;32m---> 73\u001b[0;31m     syarat = {(pilih1 == \"1\" and pilih == \"A\") : LuasSSK, (pilih1 == \"1\" and pilih == \"B\") : LuasPP, \n\u001b[0m\u001b[1;32m     74\u001b[0m               \u001b[0;34m(\u001b[0m\u001b[0mpilih1\u001b[0m \u001b[0;34m==\u001b[0m \u001b[0;34m\"1\"\u001b[0m \u001b[0;32mand\u001b[0m \u001b[0mpilih\u001b[0m \u001b[0;34m==\u001b[0m \u001b[0;34m\"C\"\u001b[0m\u001b[0;34m)\u001b[0m \u001b[0;34m:\u001b[0m \u001b[0mLuasL\u001b[0m\u001b[0;34m,\u001b[0m \u001b[0;34m(\u001b[0m\u001b[0mpilih1\u001b[0m \u001b[0;34m==\u001b[0m \u001b[0;34m\"1\"\u001b[0m \u001b[0;32mand\u001b[0m \u001b[0mpilih\u001b[0m \u001b[0;34m==\u001b[0m \u001b[0;34m\"D\"\u001b[0m\u001b[0;34m)\u001b[0m \u001b[0;34m:\u001b[0m \u001b[0mLuasJG\u001b[0m\u001b[0;34m,\u001b[0m\u001b[0;34m\u001b[0m\u001b[0;34m\u001b[0m\u001b[0m\n\u001b[1;32m     75\u001b[0m               \u001b[0;34m(\u001b[0m\u001b[0mpilih1\u001b[0m \u001b[0;34m==\u001b[0m \u001b[0;34m\"1\"\u001b[0m \u001b[0;32mand\u001b[0m \u001b[0mpilih\u001b[0m \u001b[0;34m==\u001b[0m \u001b[0;34m\"E\"\u001b[0m\u001b[0;34m)\u001b[0m \u001b[0;34m:\u001b[0m \u001b[0mLuasT\u001b[0m\u001b[0;34m,\u001b[0m \u001b[0;34m(\u001b[0m\u001b[0mpilih1\u001b[0m \u001b[0;34m==\u001b[0m \u001b[0;34m\"2\"\u001b[0m \u001b[0;32mand\u001b[0m \u001b[0mpilih\u001b[0m \u001b[0;34m==\u001b[0m \u001b[0;34m\"A\"\u001b[0m\u001b[0;34m)\u001b[0m \u001b[0;34m:\u001b[0m \u001b[0mKelilingSSK\u001b[0m\u001b[0;34m,\u001b[0m\u001b[0;34m\u001b[0m\u001b[0;34m\u001b[0m\u001b[0m\n",
            "\u001b[0;31mUnboundLocalError\u001b[0m: local variable 'pilih1' referenced before assignment"
          ]
        }
      ]
    },
    {
      "cell_type": "code",
      "source": [
        "\n",
        "print (\"\\nPROGRAM KONVERSI SUHU\\n\")\n",
        "\n",
        "indeks = {\n",
        "    \"Celcius    \": \"c\",\n",
        "    \"Reamur     \": \"r\",\n",
        "    \"Fahrenheit \": \"f\",\n",
        "    \"Kelvin     \": \"k\",\n",
        "\n",
        "}\n",
        "for i in indeks:\n",
        "    print(\"Skala suhu : \", i, \"\\t Indeks : \", indeks[i])\n",
        "suhu = float(input(\"Masukkan Suhu : \"))\n",
        "skala = input(\"Masukkan indeks satuan skala suhu : \")\n",
        "\n",
        "if (skala == \"c\"):\n",
        "    print(suhu, \"derajat celcius : \")\n",
        "    print(\"Reamur       = \", (suhu*4/5), \"derajat \")\n",
        "    print(\"Fahrenheit   = \", (suhu*9/5)+32, \"derajat  \")\n",
        "    print(\"Kelvin       = \", suhu + 273, \"derajat  \")\n",
        "elif (skala == \"r\"):\n",
        "    print(suhu, \"derajat reamur : \")\n",
        "    print(\"Celcius       = \", (suhu*5/4), \"derajat \")\n",
        "    print(\"Fahrenheit    = \", (suhu*9/4)+32, \"derajat  \")\n",
        "    print(\"Kelvin        = \", suhu*5/4+ 273, \"derajat  \")\n",
        "elif (skala == \"f\"):\n",
        "    print(suhu, \"derajat fahrenheit : \")\n",
        "    print(\"Celcius       = \", (5/9)*(suhu-32), \"derajat \")\n",
        "    print(\"Reamur        = \", (4/9)*(suhu-32), \"derajat  \")\n",
        "    print(\"Kelvin        = \", (5/9)*(suhu-32)+273, \"derajat  \")\n",
        "elif (skala == \"k\"):\n",
        "    print(suhu, \"derajat kelvin : \")\n",
        "    print(\"Celcius       = \", suhu-273, \"derajat \")\n",
        "    print(\"Reamur        = \", (4/5 * (suhu-273)), \"derajat  \")\n",
        "    print(\"Fahrenheit    = \", ((9/5)*(suhu-273) +32), \"derajat  \")"
      ],
      "metadata": {
        "colab": {
          "base_uri": "https://localhost:8080/"
        },
        "id": "gAWuZrY1-FPJ",
        "outputId": "364a1d18-3f83-4a50-bb9d-b97f4c348811"
      },
      "execution_count": 19,
      "outputs": [
        {
          "output_type": "stream",
          "name": "stdout",
          "text": [
            "\n",
            "PROGRAM KONVERSI SUHU\n",
            "\n",
            "Skala suhu :  Celcius     \t Indeks :  c\n",
            "Skala suhu :  Reamur      \t Indeks :  r\n",
            "Skala suhu :  Fahrenheit  \t Indeks :  f\n",
            "Skala suhu :  Kelvin      \t Indeks :  k\n",
            "Masukkan Suhu : 70\n",
            "Masukkan indeks satuan skala suhu : f\n",
            "70.0 derajat fahrenheit : \n",
            "Celcius       =  21.11111111111111 derajat \n",
            "Reamur        =  16.88888888888889 derajat  \n",
            "Kelvin        =  294.1111111111111 derajat  \n"
          ]
        }
      ]
    }
  ]
}